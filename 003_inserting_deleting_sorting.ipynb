{
 "cells": [
  {
   "attachments": {},
   "cell_type": "markdown",
   "metadata": {},
   "source": [
    "## Inserting, Deleting and Sorting Data\n",
    "\n",
    "In this topic, we review ways to insert or remove complete rows or columns. These\n",
    "functions are basic. Later, in other notebook, the topics about concatenation and \n",
    "merging will be covered, which are more complex and useful ways to insert or drop\n",
    "data.\n",
    "\n",
    "Topics Reviewd\n",
    "\n",
    "- Inserting using accesors or `.insert()`\n",
    "- Deleting using `del`, `pop()`, or `drop()`\n",
    "- Sorting using `.sort()`"
   ]
  },
  {
   "cell_type": "code",
   "execution_count": null,
   "metadata": {},
   "outputs": [],
   "source": []
  },
  {
   "attachments": {},
   "cell_type": "markdown",
   "metadata": {},
   "source": [
    "for drop If you pass inplace=True, then the original DataFrame will be modified and you’ll get None as the return value."
   ]
  },
  {
   "attachments": {},
   "cell_type": "markdown",
   "metadata": {},
   "source": [
    "diference between drop and del when removing a colum"
   ]
  },
  {
   "cell_type": "code",
   "execution_count": null,
   "metadata": {},
   "outputs": [],
   "source": []
  }
 ],
 "metadata": {
  "language_info": {
   "name": "python"
  },
  "orig_nbformat": 4
 },
 "nbformat": 4,
 "nbformat_minor": 2
}
